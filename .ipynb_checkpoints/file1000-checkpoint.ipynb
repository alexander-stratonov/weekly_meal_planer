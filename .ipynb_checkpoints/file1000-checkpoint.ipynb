{
 "cells": [
  {
   "cell_type": "code",
   "execution_count": 1,
   "id": "8ac1bc25",
   "metadata": {},
   "outputs": [],
   "source": [
    "import pandas as pd\n",
    "import numpy as np\n",
    "\n",
    "df = pd.read_csv('recipes.csv')\n",
    "df = df.drop('url', axis = 1)"
   ]
  },
  {
   "cell_type": "code",
   "execution_count": 2,
   "id": "90b63618",
   "metadata": {},
   "outputs": [],
   "source": [
    "df = df.sort_values('name')"
   ]
  },
  {
   "cell_type": "code",
   "execution_count": 3,
   "id": "bf090b55",
   "metadata": {},
   "outputs": [],
   "source": [
    "df['name'] = df['name'].str.replace('“', '')\n",
    "df['name'] = df['name'].str.replace('”', '')\n",
    "df['name'] = df['name'].str.replace('„ ', '')"
   ]
  },
  {
   "cell_type": "code",
   "execution_count": 4,
   "id": "461bf056",
   "metadata": {},
   "outputs": [],
   "source": [
    "df = df.sort_values('name')"
   ]
  },
  {
   "cell_type": "code",
   "execution_count": 5,
   "id": "8103849c",
   "metadata": {},
   "outputs": [
    {
     "data": {
      "text/plain": [
       "1"
      ]
     },
     "execution_count": 5,
     "metadata": {},
     "output_type": "execute_result"
    }
   ],
   "source": [
    "df['ingredients'].isnull().sum()"
   ]
  },
  {
   "cell_type": "code",
   "execution_count": 6,
   "id": "303c94ef",
   "metadata": {},
   "outputs": [
    {
     "data": {
      "text/html": [
       "<div>\n",
       "<style scoped>\n",
       "    .dataframe tbody tr th:only-of-type {\n",
       "        vertical-align: middle;\n",
       "    }\n",
       "\n",
       "    .dataframe tbody tr th {\n",
       "        vertical-align: top;\n",
       "    }\n",
       "\n",
       "    .dataframe thead th {\n",
       "        text-align: right;\n",
       "    }\n",
       "</style>\n",
       "<table border=\"1\" class=\"dataframe\">\n",
       "  <thead>\n",
       "    <tr style=\"text-align: right;\">\n",
       "      <th></th>\n",
       "      <th>name</th>\n",
       "      <th>ingredients</th>\n",
       "    </tr>\n",
       "  </thead>\n",
       "  <tbody>\n",
       "    <tr>\n",
       "      <th>99239</th>\n",
       "      <td>Страница не найдена</td>\n",
       "      <td>NaN</td>\n",
       "    </tr>\n",
       "  </tbody>\n",
       "</table>\n",
       "</div>"
      ],
      "text/plain": [
       "                      name ingredients\n",
       "99239  Страница не найдена         NaN"
      ]
     },
     "execution_count": 6,
     "metadata": {},
     "output_type": "execute_result"
    }
   ],
   "source": [
    "df.loc[df['ingredients'].isnull()]"
   ]
  },
  {
   "cell_type": "code",
   "execution_count": 7,
   "id": "89431544",
   "metadata": {},
   "outputs": [
    {
     "data": {
      "text/plain": [
       "0"
      ]
     },
     "execution_count": 7,
     "metadata": {},
     "output_type": "execute_result"
    }
   ],
   "source": [
    "df = df.drop([99239])\n",
    "df['ingredients'].isnull().sum()"
   ]
  },
  {
   "cell_type": "code",
   "execution_count": 8,
   "id": "d20b02be",
   "metadata": {},
   "outputs": [
    {
     "data": {
      "text/html": [
       "<div>\n",
       "<style scoped>\n",
       "    .dataframe tbody tr th:only-of-type {\n",
       "        vertical-align: middle;\n",
       "    }\n",
       "\n",
       "    .dataframe tbody tr th {\n",
       "        vertical-align: top;\n",
       "    }\n",
       "\n",
       "    .dataframe thead th {\n",
       "        text-align: right;\n",
       "    }\n",
       "</style>\n",
       "<table border=\"1\" class=\"dataframe\">\n",
       "  <thead>\n",
       "    <tr style=\"text-align: right;\">\n",
       "      <th></th>\n",
       "      <th>name</th>\n",
       "      <th>ingredients</th>\n",
       "    </tr>\n",
       "  </thead>\n",
       "  <tbody>\n",
       "    <tr>\n",
       "      <th>60398</th>\n",
       "      <td>Цветок из лука-порея</td>\n",
       "      <td>{'Лук-порей': None}</td>\n",
       "    </tr>\n",
       "    <tr>\n",
       "      <th>39189</th>\n",
       "      <td>Цветок из лука-порея</td>\n",
       "      <td>{'Лук-порей': None}</td>\n",
       "    </tr>\n",
       "  </tbody>\n",
       "</table>\n",
       "</div>"
      ],
      "text/plain": [
       "                       name          ingredients\n",
       "60398  Цветок из лука-порея  {'Лук-порей': None}\n",
       "39189  Цветок из лука-порея  {'Лук-порей': None}"
      ]
     },
     "execution_count": 8,
     "metadata": {},
     "output_type": "execute_result"
    }
   ],
   "source": [
    "df[df['name'] == 'Цветок из лука-порея']"
   ]
  },
  {
   "cell_type": "code",
   "execution_count": 9,
   "id": "db1cf06a",
   "metadata": {},
   "outputs": [],
   "source": [
    "df = df.drop_duplicates(subset=['name'])"
   ]
  },
  {
   "cell_type": "code",
   "execution_count": 10,
   "id": "50393454",
   "metadata": {},
   "outputs": [],
   "source": [
    "df = df.loc[1751:]"
   ]
  },
  {
   "cell_type": "code",
   "execution_count": 11,
   "id": "63c227e2",
   "metadata": {},
   "outputs": [],
   "source": [
    "df = df[df['ingredients'].str.contains('None')== False]\n"
   ]
  },
  {
   "cell_type": "code",
   "execution_count": 12,
   "id": "6908e2ff",
   "metadata": {},
   "outputs": [],
   "source": [
    "df = df[df['ingredients'].str.contains('/')== False]\n"
   ]
  },
  {
   "cell_type": "code",
   "execution_count": 13,
   "id": "abf376fd",
   "metadata": {},
   "outputs": [],
   "source": [
    "df = df[df['ingredients'].str.contains('-')== False]"
   ]
  },
  {
   "cell_type": "code",
   "execution_count": 14,
   "id": "41ecbc3f",
   "metadata": {},
   "outputs": [
    {
     "data": {
      "text/html": [
       "<div>\n",
       "<style scoped>\n",
       "    .dataframe tbody tr th:only-of-type {\n",
       "        vertical-align: middle;\n",
       "    }\n",
       "\n",
       "    .dataframe tbody tr th {\n",
       "        vertical-align: top;\n",
       "    }\n",
       "\n",
       "    .dataframe thead th {\n",
       "        text-align: right;\n",
       "    }\n",
       "</style>\n",
       "<table border=\"1\" class=\"dataframe\">\n",
       "  <thead>\n",
       "    <tr style=\"text-align: right;\">\n",
       "      <th></th>\n",
       "      <th>name</th>\n",
       "      <th>ingredients</th>\n",
       "    </tr>\n",
       "  </thead>\n",
       "  <tbody>\n",
       "    <tr>\n",
       "      <th>1751</th>\n",
       "      <td>Ароматные кексы с ликером за полчаса</td>\n",
       "      <td>{'Мука пшеничная': '190 г', 'Шоколад темный': ...</td>\n",
       "    </tr>\n",
       "    <tr>\n",
       "      <th>90578</th>\n",
       "      <td>Ароматные кексы с маком, киви и грушей</td>\n",
       "      <td>{'Яйцо куриное': '3 шт', 'Сахар': '5 ст. л.', ...</td>\n",
       "    </tr>\n",
       "    <tr>\n",
       "      <th>120616</th>\n",
       "      <td>Ароматные куриные крылья для пикника</td>\n",
       "      <td>{'Крылья куриные': '10 шт', 'Специи': '1 ч. л....</td>\n",
       "    </tr>\n",
       "    <tr>\n",
       "      <th>95811</th>\n",
       "      <td>Ароматные лепешки на кефире</td>\n",
       "      <td>{'Мука пшеничная': '600 г', 'Кефир': '1,5 стак...</td>\n",
       "    </tr>\n",
       "    <tr>\n",
       "      <th>19852</th>\n",
       "      <td>Ароматные мини-кексы</td>\n",
       "      <td>{'Яйцо куриное': '2 шт', 'Сахар': '8 ст. л.', ...</td>\n",
       "    </tr>\n",
       "    <tr>\n",
       "      <th>...</th>\n",
       "      <td>...</td>\n",
       "      <td>...</td>\n",
       "    </tr>\n",
       "    <tr>\n",
       "      <th>73981</th>\n",
       "      <td>Ячменное печенье</td>\n",
       "      <td>{'Мука пшеничная': '1,25 стак.', 'Мука ячменна...</td>\n",
       "    </tr>\n",
       "    <tr>\n",
       "      <th>81003</th>\n",
       "      <td>Ячменный напиток по рецепту моей бабушки</td>\n",
       "      <td>{'Крупа перловая': '1 стак.', 'Вода': '2 л', '...</td>\n",
       "    </tr>\n",
       "    <tr>\n",
       "      <th>88978</th>\n",
       "      <td>Ячменный хлеб с молоком на закваске</td>\n",
       "      <td>{'Закваска': '200 г', 'Мука пшеничная': '170 г...</td>\n",
       "    </tr>\n",
       "    <tr>\n",
       "      <th>21176</th>\n",
       "      <td>Ячневая каша с курицей и грибами</td>\n",
       "      <td>{'Крупа ячневая': '1 стак.', 'Вода': '2 стак.'...</td>\n",
       "    </tr>\n",
       "    <tr>\n",
       "      <th>138675</th>\n",
       "      <td>Ячневая каша с овощами</td>\n",
       "      <td>{'Морковь': '1 шт', 'Лук репчатый': '1 шт', 'К...</td>\n",
       "    </tr>\n",
       "  </tbody>\n",
       "</table>\n",
       "<p>43402 rows × 2 columns</p>\n",
       "</div>"
      ],
      "text/plain": [
       "                                            name  \\\n",
       "1751        Ароматные кексы с ликером за полчаса   \n",
       "90578     Ароматные кексы с маком, киви и грушей   \n",
       "120616      Ароматные куриные крылья для пикника   \n",
       "95811                Ароматные лепешки на кефире   \n",
       "19852                       Ароматные мини-кексы   \n",
       "...                                          ...   \n",
       "73981                           Ячменное печенье   \n",
       "81003   Ячменный напиток по рецепту моей бабушки   \n",
       "88978        Ячменный хлеб с молоком на закваске   \n",
       "21176           Ячневая каша с курицей и грибами   \n",
       "138675                    Ячневая каша с овощами   \n",
       "\n",
       "                                              ingredients  \n",
       "1751    {'Мука пшеничная': '190 г', 'Шоколад темный': ...  \n",
       "90578   {'Яйцо куриное': '3 шт', 'Сахар': '5 ст. л.', ...  \n",
       "120616  {'Крылья куриные': '10 шт', 'Специи': '1 ч. л....  \n",
       "95811   {'Мука пшеничная': '600 г', 'Кефир': '1,5 стак...  \n",
       "19852   {'Яйцо куриное': '2 шт', 'Сахар': '8 ст. л.', ...  \n",
       "...                                                   ...  \n",
       "73981   {'Мука пшеничная': '1,25 стак.', 'Мука ячменна...  \n",
       "81003   {'Крупа перловая': '1 стак.', 'Вода': '2 л', '...  \n",
       "88978   {'Закваска': '200 г', 'Мука пшеничная': '170 г...  \n",
       "21176   {'Крупа ячневая': '1 стак.', 'Вода': '2 стак.'...  \n",
       "138675  {'Морковь': '1 шт', 'Лук репчатый': '1 шт', 'К...  \n",
       "\n",
       "[43402 rows x 2 columns]"
      ]
     },
     "execution_count": 14,
     "metadata": {},
     "output_type": "execute_result"
    }
   ],
   "source": [
    "df"
   ]
  },
  {
   "cell_type": "code",
   "execution_count": 15,
   "id": "875908e3",
   "metadata": {},
   "outputs": [],
   "source": [
    "df = df.reset_index()"
   ]
  },
  {
   "cell_type": "code",
   "execution_count": 16,
   "id": "3ed9d5aa",
   "metadata": {},
   "outputs": [],
   "source": [
    "df = df.drop('index', axis = 1)"
   ]
  },
  {
   "cell_type": "code",
   "execution_count": 17,
   "id": "71522e3f",
   "metadata": {},
   "outputs": [],
   "source": [
    "df.to_csv('file1.csv', index=False)"
   ]
  },
  {
   "cell_type": "code",
   "execution_count": 18,
   "id": "2088122b",
   "metadata": {},
   "outputs": [
    {
     "data": {
      "text/html": [
       "<div>\n",
       "<style scoped>\n",
       "    .dataframe tbody tr th:only-of-type {\n",
       "        vertical-align: middle;\n",
       "    }\n",
       "\n",
       "    .dataframe tbody tr th {\n",
       "        vertical-align: top;\n",
       "    }\n",
       "\n",
       "    .dataframe thead th {\n",
       "        text-align: right;\n",
       "    }\n",
       "</style>\n",
       "<table border=\"1\" class=\"dataframe\">\n",
       "  <thead>\n",
       "    <tr style=\"text-align: right;\">\n",
       "      <th></th>\n",
       "      <th>name</th>\n",
       "      <th>ingredients</th>\n",
       "    </tr>\n",
       "  </thead>\n",
       "  <tbody>\n",
       "    <tr>\n",
       "      <th>0</th>\n",
       "      <td>Ароматные кексы с ликером за полчаса</td>\n",
       "      <td>{'Мука пшеничная': '190 г', 'Шоколад темный': ...</td>\n",
       "    </tr>\n",
       "    <tr>\n",
       "      <th>1</th>\n",
       "      <td>Ароматные кексы с маком, киви и грушей</td>\n",
       "      <td>{'Яйцо куриное': '3 шт', 'Сахар': '5 ст. л.', ...</td>\n",
       "    </tr>\n",
       "    <tr>\n",
       "      <th>2</th>\n",
       "      <td>Ароматные куриные крылья для пикника</td>\n",
       "      <td>{'Крылья куриные': '10 шт', 'Специи': '1 ч. л....</td>\n",
       "    </tr>\n",
       "    <tr>\n",
       "      <th>3</th>\n",
       "      <td>Ароматные лепешки на кефире</td>\n",
       "      <td>{'Мука пшеничная': '600 г', 'Кефир': '1,5 стак...</td>\n",
       "    </tr>\n",
       "    <tr>\n",
       "      <th>4</th>\n",
       "      <td>Ароматные мини-кексы</td>\n",
       "      <td>{'Яйцо куриное': '2 шт', 'Сахар': '8 ст. л.', ...</td>\n",
       "    </tr>\n",
       "    <tr>\n",
       "      <th>...</th>\n",
       "      <td>...</td>\n",
       "      <td>...</td>\n",
       "    </tr>\n",
       "    <tr>\n",
       "      <th>43397</th>\n",
       "      <td>Ячменное печенье</td>\n",
       "      <td>{'Мука пшеничная': '1,25 стак.', 'Мука ячменна...</td>\n",
       "    </tr>\n",
       "    <tr>\n",
       "      <th>43398</th>\n",
       "      <td>Ячменный напиток по рецепту моей бабушки</td>\n",
       "      <td>{'Крупа перловая': '1 стак.', 'Вода': '2 л', '...</td>\n",
       "    </tr>\n",
       "    <tr>\n",
       "      <th>43399</th>\n",
       "      <td>Ячменный хлеб с молоком на закваске</td>\n",
       "      <td>{'Закваска': '200 г', 'Мука пшеничная': '170 г...</td>\n",
       "    </tr>\n",
       "    <tr>\n",
       "      <th>43400</th>\n",
       "      <td>Ячневая каша с курицей и грибами</td>\n",
       "      <td>{'Крупа ячневая': '1 стак.', 'Вода': '2 стак.'...</td>\n",
       "    </tr>\n",
       "    <tr>\n",
       "      <th>43401</th>\n",
       "      <td>Ячневая каша с овощами</td>\n",
       "      <td>{'Морковь': '1 шт', 'Лук репчатый': '1 шт', 'К...</td>\n",
       "    </tr>\n",
       "  </tbody>\n",
       "</table>\n",
       "<p>43402 rows × 2 columns</p>\n",
       "</div>"
      ],
      "text/plain": [
       "                                           name  \\\n",
       "0          Ароматные кексы с ликером за полчаса   \n",
       "1        Ароматные кексы с маком, киви и грушей   \n",
       "2          Ароматные куриные крылья для пикника   \n",
       "3                   Ароматные лепешки на кефире   \n",
       "4                          Ароматные мини-кексы   \n",
       "...                                         ...   \n",
       "43397                          Ячменное печенье   \n",
       "43398  Ячменный напиток по рецепту моей бабушки   \n",
       "43399       Ячменный хлеб с молоком на закваске   \n",
       "43400          Ячневая каша с курицей и грибами   \n",
       "43401                    Ячневая каша с овощами   \n",
       "\n",
       "                                             ingredients  \n",
       "0      {'Мука пшеничная': '190 г', 'Шоколад темный': ...  \n",
       "1      {'Яйцо куриное': '3 шт', 'Сахар': '5 ст. л.', ...  \n",
       "2      {'Крылья куриные': '10 шт', 'Специи': '1 ч. л....  \n",
       "3      {'Мука пшеничная': '600 г', 'Кефир': '1,5 стак...  \n",
       "4      {'Яйцо куриное': '2 шт', 'Сахар': '8 ст. л.', ...  \n",
       "...                                                  ...  \n",
       "43397  {'Мука пшеничная': '1,25 стак.', 'Мука ячменна...  \n",
       "43398  {'Крупа перловая': '1 стак.', 'Вода': '2 л', '...  \n",
       "43399  {'Закваска': '200 г', 'Мука пшеничная': '170 г...  \n",
       "43400  {'Крупа ячневая': '1 стак.', 'Вода': '2 стак.'...  \n",
       "43401  {'Морковь': '1 шт', 'Лук репчатый': '1 шт', 'К...  \n",
       "\n",
       "[43402 rows x 2 columns]"
      ]
     },
     "execution_count": 18,
     "metadata": {},
     "output_type": "execute_result"
    }
   ],
   "source": [
    "df = pd.read_csv('file1.csv')\n",
    "df"
   ]
  },
  {
   "cell_type": "code",
   "execution_count": 19,
   "id": "ffe58352",
   "metadata": {},
   "outputs": [],
   "source": [
    "df1 = df.sample(1000)\n",
    "df1.to_csv('file1000.csv', index=False)"
   ]
  },
  {
   "cell_type": "code",
   "execution_count": 20,
   "id": "3833647e",
   "metadata": {},
   "outputs": [
    {
     "data": {
      "text/html": [
       "<div>\n",
       "<style scoped>\n",
       "    .dataframe tbody tr th:only-of-type {\n",
       "        vertical-align: middle;\n",
       "    }\n",
       "\n",
       "    .dataframe tbody tr th {\n",
       "        vertical-align: top;\n",
       "    }\n",
       "\n",
       "    .dataframe thead th {\n",
       "        text-align: right;\n",
       "    }\n",
       "</style>\n",
       "<table border=\"1\" class=\"dataframe\">\n",
       "  <thead>\n",
       "    <tr style=\"text-align: right;\">\n",
       "      <th></th>\n",
       "      <th>name</th>\n",
       "      <th>ingredients</th>\n",
       "    </tr>\n",
       "  </thead>\n",
       "  <tbody>\n",
       "    <tr>\n",
       "      <th>29093</th>\n",
       "      <td>Салат \"Корсар\"</td>\n",
       "      <td>{'Креветки': '500 г', 'Яйцо куриное': '5 шт', ...</td>\n",
       "    </tr>\n",
       "    <tr>\n",
       "      <th>10380</th>\n",
       "      <td>Картофель, запечeнный с семечками \"Ароматный\"</td>\n",
       "      <td>{'Картофель': '7 шт', 'Масло подсолнечное': '2...</td>\n",
       "    </tr>\n",
       "    <tr>\n",
       "      <th>8248</th>\n",
       "      <td>Запеканка на каждый день</td>\n",
       "      <td>{'Фарш мясной': '300 г', 'Капуста квашеная': '...</td>\n",
       "    </tr>\n",
       "    <tr>\n",
       "      <th>22990</th>\n",
       "      <td>Печенье «Снежные сугробы»</td>\n",
       "      <td>{'Масло сливочное': '130 г', 'Сметана': '70 г'...</td>\n",
       "    </tr>\n",
       "    <tr>\n",
       "      <th>42269</th>\n",
       "      <td>Шоколадный брауни с клюквой</td>\n",
       "      <td>{'Шоколад темный': '100 г', 'Масло сливочное':...</td>\n",
       "    </tr>\n",
       "    <tr>\n",
       "      <th>...</th>\n",
       "      <td>...</td>\n",
       "      <td>...</td>\n",
       "    </tr>\n",
       "    <tr>\n",
       "      <th>40517</th>\n",
       "      <td>Хлеб с семечками \"Здоровье\"</td>\n",
       "      <td>{'Дрожжи': '2 ч. л.', 'Мука пшеничная': '600 г...</td>\n",
       "    </tr>\n",
       "    <tr>\n",
       "      <th>18382</th>\n",
       "      <td>Мороженое \"Абрикосовый лёд\"</td>\n",
       "      <td>{'Абрикос': '350 г', 'Апельсин': '1 шт', 'Саха...</td>\n",
       "    </tr>\n",
       "    <tr>\n",
       "      <th>13512</th>\n",
       "      <td>Креветки для пикника</td>\n",
       "      <td>{'Креветки': '12 шт', 'Специи': 'по вкусу', 'П...</td>\n",
       "    </tr>\n",
       "    <tr>\n",
       "      <th>39809</th>\n",
       "      <td>Фруктовое мороженое на основе пломбира</td>\n",
       "      <td>{'Мороженое': '700 г', 'Слива': '10 шт', 'Крыж...</td>\n",
       "    </tr>\n",
       "    <tr>\n",
       "      <th>25363</th>\n",
       "      <td>Покровский пряник</td>\n",
       "      <td>{'Сахар': '4 ст. л.', 'Маргарин': '125 г', 'Яй...</td>\n",
       "    </tr>\n",
       "  </tbody>\n",
       "</table>\n",
       "<p>1000 rows × 2 columns</p>\n",
       "</div>"
      ],
      "text/plain": [
       "                                                name  \\\n",
       "29093                                 Салат \"Корсар\"   \n",
       "10380  Картофель, запечeнный с семечками \"Ароматный\"   \n",
       "8248                        Запеканка на каждый день   \n",
       "22990                      Печенье «Снежные сугробы»   \n",
       "42269                    Шоколадный брауни с клюквой   \n",
       "...                                              ...   \n",
       "40517                    Хлеб с семечками \"Здоровье\"   \n",
       "18382                    Мороженое \"Абрикосовый лёд\"   \n",
       "13512                           Креветки для пикника   \n",
       "39809         Фруктовое мороженое на основе пломбира   \n",
       "25363                              Покровский пряник   \n",
       "\n",
       "                                             ingredients  \n",
       "29093  {'Креветки': '500 г', 'Яйцо куриное': '5 шт', ...  \n",
       "10380  {'Картофель': '7 шт', 'Масло подсолнечное': '2...  \n",
       "8248   {'Фарш мясной': '300 г', 'Капуста квашеная': '...  \n",
       "22990  {'Масло сливочное': '130 г', 'Сметана': '70 г'...  \n",
       "42269  {'Шоколад темный': '100 г', 'Масло сливочное':...  \n",
       "...                                                  ...  \n",
       "40517  {'Дрожжи': '2 ч. л.', 'Мука пшеничная': '600 г...  \n",
       "18382  {'Абрикос': '350 г', 'Апельсин': '1 шт', 'Саха...  \n",
       "13512  {'Креветки': '12 шт', 'Специи': 'по вкусу', 'П...  \n",
       "39809  {'Мороженое': '700 г', 'Слива': '10 шт', 'Крыж...  \n",
       "25363  {'Сахар': '4 ст. л.', 'Маргарин': '125 г', 'Яй...  \n",
       "\n",
       "[1000 rows x 2 columns]"
      ]
     },
     "execution_count": 20,
     "metadata": {},
     "output_type": "execute_result"
    }
   ],
   "source": [
    "df1"
   ]
  },
  {
   "cell_type": "code",
   "execution_count": null,
   "id": "8ef1cae0",
   "metadata": {},
   "outputs": [],
   "source": []
  }
 ],
 "metadata": {
  "kernelspec": {
   "display_name": "Python 3 (ipykernel)",
   "language": "python",
   "name": "python3"
  },
  "language_info": {
   "codemirror_mode": {
    "name": "ipython",
    "version": 3
   },
   "file_extension": ".py",
   "mimetype": "text/x-python",
   "name": "python",
   "nbconvert_exporter": "python",
   "pygments_lexer": "ipython3",
   "version": "3.9.12"
  }
 },
 "nbformat": 4,
 "nbformat_minor": 5
}
