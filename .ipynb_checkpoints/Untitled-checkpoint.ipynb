{
 "cells": [
  {
   "cell_type": "code",
   "execution_count": 3,
   "id": "9709a958",
   "metadata": {},
   "outputs": [
    {
     "name": "stderr",
     "output_type": "stream",
     "text": [
      "usage: ipykernel_launcher.py [-h] --save_path SAVE_PATH\n",
      "ipykernel_launcher.py: error: the following arguments are required: --save_path\n"
     ]
    },
    {
     "ename": "SystemExit",
     "evalue": "2",
     "output_type": "error",
     "traceback": [
      "An exception has occurred, use %tb to see the full traceback.\n",
      "\u001b[1;31mSystemExit\u001b[0m\u001b[1;31m:\u001b[0m 2\n"
     ]
    }
   ],
   "source": [
    "import argparse\n",
    "import bs4\n",
    "from datetime import datetime\n",
    "from functools import reduce\n",
    "import math\n",
    "from multiprocessing import Pool\n",
    "import pandas as pd\n",
    "from pathlib import Path\n",
    "import requests\n",
    "from tqdm import tqdm\n",
    "\n",
    "from const import n_workers\n",
    "\n",
    "\n",
    "def get_soup(url):\n",
    "    req = requests.get(url)\n",
    "    return bs4.BeautifulSoup(req.text, 'lxml')\n",
    "\n",
    "\n",
    "def get_recipe_urls_from_page(url):\n",
    "    soup = get_soup(url)\n",
    "    content_div = soup.find('div', 'content-md')\n",
    "    pages_url = [recipe_preview.find('h2').find('a')['href']\n",
    "                 for recipe_preview in content_div.find_all('article', 'item-bl')]\n",
    "    return pages_url\n",
    "\n",
    "\n",
    "def get_recipe_from_page(url):\n",
    "    soup = get_soup(url)\n",
    "    recipe_name = soup.find('h1').get_text().strip()\n",
    "\n",
    "    if recipe_name == 'Страница не найдена':\n",
    "        return [{'url': url, 'name': recipe_name}]\n",
    "\n",
    "    ingredients_tags = soup.findAll('span',  itemprop='ingredient')\n",
    "    ingredients_dict = {}\n",
    "    for ingredient in ingredients_tags:\n",
    "        name = ingredient.find('span',  itemprop='name').get_text().strip()\n",
    "        amount = ingredient.find('span',  itemprop='amount')\n",
    "        if amount is not None:\n",
    "            amount = amount.get_text().strip()\n",
    "        ingredients_dict[name] = amount\n",
    "\n",
    "    return [{'url': url, 'name': recipe_name, 'ingredients': ingredients_dict}]\n",
    "\n",
    "\n",
    "def get_pages_range():\n",
    "    main_url = 'https://www.povarenok.ru/recipes/destiny/5/'\n",
    "    soup = get_soup(main_url)\n",
    "\n",
    "    recipe_count_div = soup.find('div', 'bl-right')\n",
    "    recipe_count = int(recipe_count_div.find('strong').get_text())\n",
    "    recipe_per_page_count = 15\n",
    "    pages_count = math.ceil(recipe_count / recipe_per_page_count)\n",
    "\n",
    "    pages_range = [f'https://www.povarenok.ru/recipes/~{i}/' for i in range(1, pages_count + 1)]\n",
    "    return pages_range\n",
    "\n",
    "\n",
    "if __name__ == '__main__':\n",
    "    parser = argparse.ArgumentParser(\n",
    "        description='Parser of recipes from povarenok.ru site')\n",
    "    parser.add_argument(\n",
    "        '--save_path',\n",
    "        help='path for saving data',\n",
    "        type=Path,\n",
    "        required=True\n",
    "    )\n",
    "    args = parser.parse_args()\n",
    "    print(f'Run with arguments: {args}')\n",
    "\n",
    "    pages_range = get_pages_range()\n",
    "\n",
    "    print(\"Let's find all recipe urls\")\n",
    "    with Pool(n_workers) as p:\n",
    "        p = Pool(n_workers)\n",
    "        maped_recipe_urls = tqdm(p.imap_unordered(get_recipe_urls_from_page, pages_range), total=len(pages_range))\n",
    "        recipe_urls = reduce(lambda x, y: x + y, maped_recipe_urls)\n",
    "        recipe_urls = set(recipe_urls)\n",
    "\n",
    "    print(\"Let's parse all recipe urls\")\n",
    "    with Pool(n_workers) as p:\n",
    "        maped_recipes = tqdm(p.imap_unordered(get_recipe_from_page, recipe_urls), total=len(recipe_urls))\n",
    "        recipes_data = pd.DataFrame(reduce(lambda x, y: x + y, maped_recipes))\n",
    "\n",
    "    current_datetime = datetime.today().strftime('%Y_%m_%d')\n",
    "    recipes_data.to_csv(args.save_path / f'povarenok_recipes_{current_datetime}.csv', index=False)\n",
    "\n",
    "    print(\"Well done\")"
   ]
  },
  {
   "cell_type": "code",
   "execution_count": null,
   "id": "5059fe8b",
   "metadata": {},
   "outputs": [],
   "source": []
  }
 ],
 "metadata": {
  "kernelspec": {
   "display_name": "Python 3 (ipykernel)",
   "language": "python",
   "name": "python3"
  },
  "language_info": {
   "codemirror_mode": {
    "name": "ipython",
    "version": 3
   },
   "file_extension": ".py",
   "mimetype": "text/x-python",
   "name": "python",
   "nbconvert_exporter": "python",
   "pygments_lexer": "ipython3",
   "version": "3.9.12"
  }
 },
 "nbformat": 4,
 "nbformat_minor": 5
}
